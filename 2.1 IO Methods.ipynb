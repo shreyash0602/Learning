{
 "cells": [
  {
   "cell_type": "code",
   "execution_count": 1,
   "metadata": {},
   "outputs": [
    {
     "name": "stdout",
     "output_type": "stream",
     "text": [
      "Enter a no. : 45\n",
      "45\n"
     ]
    }
   ],
   "source": [
    "num=input(\"Enter a no. : \")\n",
    "print(num)"
   ]
  },
  {
   "cell_type": "code",
   "execution_count": 2,
   "metadata": {},
   "outputs": [
    {
     "name": "stdout",
     "output_type": "stream",
     "text": [
      "Type of num: <class 'str'>\n"
     ]
    }
   ],
   "source": [
    "print(\"Type of num:\",type(num))"
   ]
  },
  {
   "cell_type": "code",
   "execution_count": 1,
   "metadata": {},
   "outputs": [
    {
     "name": "stdout",
     "output_type": "stream",
     "text": [
      "Enter three nos.45 56 67\n",
      "First no. = 45\n",
      "Second no. = 56\n",
      "Third no. = 67\n"
     ]
    }
   ],
   "source": [
    "x,y,z=input(\"Enter three nos.\").split()\n",
    "print(\"First no. =\",x)\n",
    "print(\"Second no. =\",y)\n",
    "print(\"Third no. =\",z)"
   ]
  },
  {
   "cell_type": "code",
   "execution_count": 3,
   "metadata": {},
   "outputs": [
    {
     "name": "stdout",
     "output_type": "stream",
     "text": [
      "Enter two nos.23 45\n",
      "First input is 23 and Second input is 45\n"
     ]
    }
   ],
   "source": [
    "a,b=input(\"Enter two nos.\").split()\n",
    "print(\"First input is {} and Second input is {}\".format(a,b))"
   ]
  },
  {
   "cell_type": "code",
   "execution_count": null,
   "metadata": {},
   "outputs": [],
   "source": []
  }
 ],
 "metadata": {
  "kernelspec": {
   "display_name": "Python 3",
   "language": "python",
   "name": "python3"
  },
  "language_info": {
   "codemirror_mode": {
    "name": "ipython",
    "version": 3
   },
   "file_extension": ".py",
   "mimetype": "text/x-python",
   "name": "python",
   "nbconvert_exporter": "python",
   "pygments_lexer": "ipython3",
   "version": "3.7.6"
  }
 },
 "nbformat": 4,
 "nbformat_minor": 4
}
