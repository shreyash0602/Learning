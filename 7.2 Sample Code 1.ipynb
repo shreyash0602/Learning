{
 "cells": [
  {
   "cell_type": "markdown",
   "metadata": {},
   "source": [
    "WAP to find whether a user entered number is a strong number.\n",
    "A strong no. is one in which the sum of factorial of digits is equal to the no.\n",
    "Eg: 145 = 1! + 4! + 5! = 1+24+120"
   ]
  },
  {
   "cell_type": "code",
   "execution_count": 5,
   "metadata": {},
   "outputs": [
    {
     "name": "stdout",
     "output_type": "stream",
     "text": [
      "Enter a no. : 145\n"
     ]
    }
   ],
   "source": [
    "n=int(input('Enter a no. : '))"
   ]
  },
  {
   "cell_type": "code",
   "execution_count": 6,
   "metadata": {},
   "outputs": [
    {
     "name": "stdout",
     "output_type": "stream",
     "text": [
      "Strong No.\n"
     ]
    }
   ],
   "source": [
    "s=0\n",
    "a=n\n",
    "while(a!=0):\n",
    "    d=int(a%10)\n",
    "    f=1\n",
    "    for i in range(1,d+1):\n",
    "        f=f*i\n",
    "    s=s+f\n",
    "    a=int(a/10)\n",
    "if(s==n):\n",
    "    print(\"Strong No.\")\n",
    "else:\n",
    "    print(\"Not Strong No\")"
   ]
  },
  {
   "cell_type": "code",
   "execution_count": null,
   "metadata": {},
   "outputs": [],
   "source": []
  }
 ],
 "metadata": {
  "kernelspec": {
   "display_name": "Python 3",
   "language": "python",
   "name": "python3"
  },
  "language_info": {
   "codemirror_mode": {
    "name": "ipython",
    "version": 3
   },
   "file_extension": ".py",
   "mimetype": "text/x-python",
   "name": "python",
   "nbconvert_exporter": "python",
   "pygments_lexer": "ipython3",
   "version": "3.7.6"
  }
 },
 "nbformat": 4,
 "nbformat_minor": 4
}
