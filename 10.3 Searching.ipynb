{
 "cells": [
  {
   "cell_type": "code",
   "execution_count": 3,
   "metadata": {},
   "outputs": [
    {
     "name": "stdout",
     "output_type": "stream",
     "text": [
      "Enter a limit : 3\n",
      "Enter a no. 4\n",
      "Enter a no. 7\n",
      "Enter a no. 9\n",
      "Elemnet not found\n"
     ]
    }
   ],
   "source": [
    "def ls(l,n):\n",
    "    flag=0\n",
    "    for i in range(len(l)):\n",
    "        if(l[i]==n):\n",
    "            print('Element present at : ',i)\n",
    "            flag=1\n",
    "            break\n",
    "    if(flag==0):\n",
    "        print('Elemnet not found')\n",
    "\n",
    "l=[]\n",
    "m=int(input('Enter a limit : '))\n",
    "for j in range(m):\n",
    "    a=int(input(\"Enter a no. \"))\n",
    "    l.append(a)\n",
    "n=2\n",
    "ls(l, n)"
   ]
  },
  {
   "cell_type": "code",
   "execution_count": 3,
   "metadata": {},
   "outputs": [
    {
     "name": "stdout",
     "output_type": "stream",
     "text": [
      "Enter a limit : 5\n",
      "Enter a no. 1\n",
      "Enter a no. 2\n",
      "Enter a no. 6\n",
      "Enter a no. 9\n",
      "Enter a no. 10\n",
      "Element present at :  1\n"
     ]
    }
   ],
   "source": [
    "l=[]\n",
    "m=int(input('Enter a limit : '))\n",
    "for j in range(m):\n",
    "    a=int(input(\"Enter a no. \"))\n",
    "    l.append(a)\n",
    "n=2\n",
    "b=0\n",
    "h=len(l)-1\n",
    "while(b<=h):\n",
    "    m=(b+h)//2\n",
    "    if(l[m]>n):\n",
    "        h=m-1\n",
    "    elif(l[m]<n):\n",
    "        b=m+1\n",
    "    else:\n",
    "        print('Element present at : ',m)\n",
    "        break\n",
    "if(b>h):\n",
    "    print('Element not present')"
   ]
  },
  {
   "cell_type": "code",
   "execution_count": null,
   "metadata": {},
   "outputs": [],
   "source": []
  }
 ],
 "metadata": {
  "kernelspec": {
   "display_name": "Python 3",
   "language": "python",
   "name": "python3"
  },
  "language_info": {
   "codemirror_mode": {
    "name": "ipython",
    "version": 3
   },
   "file_extension": ".py",
   "mimetype": "text/x-python",
   "name": "python",
   "nbconvert_exporter": "python",
   "pygments_lexer": "ipython3",
   "version": "3.7.6"
  }
 },
 "nbformat": 4,
 "nbformat_minor": 4
}
