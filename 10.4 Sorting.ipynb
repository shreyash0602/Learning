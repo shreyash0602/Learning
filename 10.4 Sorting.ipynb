{
 "cells": [
  {
   "cell_type": "code",
   "execution_count": 1,
   "metadata": {},
   "outputs": [
    {
     "name": "stdout",
     "output_type": "stream",
     "text": [
      "[10, 14, 27, 33, 35]\n"
     ]
    }
   ],
   "source": [
    "def bs(l):\n",
    "    for i in range(len(l)-1):\n",
    "        for j in range(len(l)-i-1):\n",
    "            if(l[j]>l[j+1]):\n",
    "                l[j],l[j+1]=l[j+1],l[j]\n",
    "    print(l)\n",
    "l=[14,33,27,35,10]\n",
    "bs(l)"
   ]
  },
  {
   "cell_type": "code",
   "execution_count": 2,
   "metadata": {},
   "outputs": [
    {
     "name": "stdout",
     "output_type": "stream",
     "text": [
      "[10, 14, 19, 25, 27, 33, 42, 44]\n"
     ]
    }
   ],
   "source": [
    "def ss(l):\n",
    "    for i in range(0,len(l)):\n",
    "        min=i\n",
    "        for j in range(i+1,len(l)):\n",
    "            if(l[min]>l[j]):\n",
    "                min=j\n",
    "        l[i],l[min]=l[min],l[i]\n",
    "    print(l)\n",
    "l=[14,33,27,10,25,19,42,44]\n",
    "ss(l)"
   ]
  },
  {
   "cell_type": "code",
   "execution_count": 1,
   "metadata": {},
   "outputs": [
    {
     "name": "stdout",
     "output_type": "stream",
     "text": [
      "[10, 14, 19, 25, 27, 33, 42, 44]\n"
     ]
    }
   ],
   "source": [
    "def ins(l):\n",
    "    for i  in range(1,len(l)):\n",
    "        key=l[i]\n",
    "        j=i-1\n",
    "        while(j>=0 and key<l[j]):\n",
    "            l[j+1]=l[j]\n",
    "            j-=1\n",
    "        l[j+1]=key\n",
    "    print(l)\n",
    "l=[14,33,27,10,25,19,42,44]\n",
    "ins(l)"
   ]
  },
  {
   "cell_type": "code",
   "execution_count": null,
   "metadata": {},
   "outputs": [],
   "source": []
  }
 ],
 "metadata": {
  "kernelspec": {
   "display_name": "Python 3",
   "language": "python",
   "name": "python3"
  },
  "language_info": {
   "codemirror_mode": {
    "name": "ipython",
    "version": 3
   },
   "file_extension": ".py",
   "mimetype": "text/x-python",
   "name": "python",
   "nbconvert_exporter": "python",
   "pygments_lexer": "ipython3",
   "version": "3.7.6"
  }
 },
 "nbformat": 4,
 "nbformat_minor": 4
}
