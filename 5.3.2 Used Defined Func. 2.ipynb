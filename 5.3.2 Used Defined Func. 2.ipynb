{
 "cells": [
  {
   "cell_type": "code",
   "execution_count": 2,
   "metadata": {},
   "outputs": [
    {
     "name": "stdout",
     "output_type": "stream",
     "text": [
      "y= 2\n",
      "x= 50\n"
     ]
    }
   ],
   "source": [
    "x=50 # x has global scope and y has local scope\n",
    "def sample():\n",
    "    y=2\n",
    "    print('y=',y)\n",
    "sample()\n",
    "print('x=',x)"
   ]
  },
  {
   "cell_type": "code",
   "execution_count": 3,
   "metadata": {},
   "outputs": [
    {
     "name": "stdout",
     "output_type": "stream",
     "text": [
      "y= 2\n",
      "x= 50\n",
      "x= 50\n"
     ]
    }
   ],
   "source": [
    "x=50 # x has global scope and y has local scope\n",
    "def sample():\n",
    "    y=2\n",
    "    print('y=',y)\n",
    "    print('x=',x)\n",
    "sample()\n",
    "print('x=',x)"
   ]
  },
  {
   "cell_type": "code",
   "execution_count": 4,
   "metadata": {},
   "outputs": [
    {
     "name": "stdout",
     "output_type": "stream",
     "text": [
      "y= 2\n",
      "x= 50\n",
      "x= 50\n"
     ]
    },
    {
     "ename": "NameError",
     "evalue": "name 'y' is not defined",
     "output_type": "error",
     "traceback": [
      "\u001b[1;31m---------------------------------------------------------------------------\u001b[0m",
      "\u001b[1;31mNameError\u001b[0m                                 Traceback (most recent call last)",
      "\u001b[1;32m<ipython-input-4-a064f8d3bf94>\u001b[0m in \u001b[0;36m<module>\u001b[1;34m\u001b[0m\n\u001b[0;32m      6\u001b[0m \u001b[0msample\u001b[0m\u001b[1;33m(\u001b[0m\u001b[1;33m)\u001b[0m\u001b[1;33m\u001b[0m\u001b[1;33m\u001b[0m\u001b[0m\n\u001b[0;32m      7\u001b[0m \u001b[0mprint\u001b[0m\u001b[1;33m(\u001b[0m\u001b[1;34m'x='\u001b[0m\u001b[1;33m,\u001b[0m\u001b[0mx\u001b[0m\u001b[1;33m)\u001b[0m\u001b[1;33m\u001b[0m\u001b[1;33m\u001b[0m\u001b[0m\n\u001b[1;32m----> 8\u001b[1;33m \u001b[0mprint\u001b[0m\u001b[1;33m(\u001b[0m\u001b[1;34m'y='\u001b[0m\u001b[1;33m,\u001b[0m\u001b[0my\u001b[0m\u001b[1;33m)\u001b[0m\u001b[1;33m\u001b[0m\u001b[1;33m\u001b[0m\u001b[0m\n\u001b[0m",
      "\u001b[1;31mNameError\u001b[0m: name 'y' is not defined"
     ]
    }
   ],
   "source": [
    "x=50 # x has global scope and y has local scope\n",
    "def sample():# y not printed since it is local variable\n",
    "    y=2\n",
    "    print('y=',y)\n",
    "    print('x=',x)\n",
    "sample()\n",
    "print('x=',x)\n",
    "print('y=',y)"
   ]
  },
  {
   "cell_type": "code",
   "execution_count": 12,
   "metadata": {},
   "outputs": [
    {
     "name": "stdout",
     "output_type": "stream",
     "text": [
      "y= 2\n",
      "x= 5\n",
      "Global x= 50\n"
     ]
    }
   ],
   "source": [
    "x=50 # x has global scope and y has local scope\n",
    "def sample():\n",
    "    y=2\n",
    "    x=5\n",
    "    print('y=',y)\n",
    "    print('x=',x)\n",
    "sample()\n",
    "print('Global x=',x) # loacl variable overwrites global variable in its scope"
   ]
  },
  {
   "cell_type": "code",
   "execution_count": 13,
   "metadata": {},
   "outputs": [
    {
     "name": "stdout",
     "output_type": "stream",
     "text": [
      "y= 2\n",
      "x= 5\n",
      "Global x= 5\n"
     ]
    }
   ],
   "source": [
    "x=50 # x has global scope and y has local scope\n",
    "def sample():\n",
    "    y=2\n",
    "    global x\n",
    "    x=5\n",
    "    print('y=',y)\n",
    "    print('x=',x)\n",
    "sample()\n",
    "print('Global x=',x) # Value of global x is changed since its accessed in the local scope through global keyword"
   ]
  },
  {
   "cell_type": "code",
   "execution_count": 10,
   "metadata": {},
   "outputs": [
    {
     "name": "stdout",
     "output_type": "stream",
     "text": [
      "Global x= 50\n",
      "y= 2\n",
      "x= 5\n"
     ]
    }
   ],
   "source": [
    "x=50 # x has global scope and y has local scope\n",
    "def sample():\n",
    "    y=2\n",
    "    global x\n",
    "    x=5\n",
    "    print('y=',y)\n",
    "    print('x=',x)\n",
    "print('Global x=',x) # Value of global x is changed since its accessed in the local scope through global keyword but the function is called after the execution of printing of global variable \n",
    "sample()"
   ]
  },
  {
   "cell_type": "code",
   "execution_count": 11,
   "metadata": {},
   "outputs": [
    {
     "name": "stdout",
     "output_type": "stream",
     "text": [
      "Global x= 50\n",
      "y= 2\n",
      "x= 5\n",
      "Global x= 5\n"
     ]
    }
   ],
   "source": [
    "x=50 # x has global scope and y has local scope\n",
    "def sample():\n",
    "    y=2\n",
    "    global x\n",
    "    x=5\n",
    "    print('y=',y)\n",
    "    print('x=',x)\n",
    "print('Global x=',x) # Value of global x is changed since its accessed in the local scope through global keyword but the function is called after the execution of printing of global variable \n",
    "sample()\n",
    "print('Global x=',x)"
   ]
  },
  {
   "cell_type": "code",
   "execution_count": 14,
   "metadata": {},
   "outputs": [
    {
     "name": "stdout",
     "output_type": "stream",
     "text": [
      "a,b,c= 1 2 4\n",
      "a,b,c= 5 6 4\n",
      "a,b,c= 5 6 7\n"
     ]
    }
   ],
   "source": [
    "def show(a,b=2,c=4):  #default values written first\n",
    "    print('a,b,c=',a,b,c)\n",
    "show(1)\n",
    "show(5,6)\n",
    "show(5,6,7)"
   ]
  },
  {
   "cell_type": "code",
   "execution_count": null,
   "metadata": {},
   "outputs": [],
   "source": []
  }
 ],
 "metadata": {
  "kernelspec": {
   "display_name": "Python 3",
   "language": "python",
   "name": "python3"
  },
  "language_info": {
   "codemirror_mode": {
    "name": "ipython",
    "version": 3
   },
   "file_extension": ".py",
   "mimetype": "text/x-python",
   "name": "python",
   "nbconvert_exporter": "python",
   "pygments_lexer": "ipython3",
   "version": "3.7.6"
  }
 },
 "nbformat": 4,
 "nbformat_minor": 4
}
