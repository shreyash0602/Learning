{
 "cells": [
  {
   "cell_type": "code",
   "execution_count": 1,
   "metadata": {},
   "outputs": [
    {
     "name": "stdout",
     "output_type": "stream",
     "text": [
      "1\n",
      "4\n",
      "6\n",
      "8\n",
      "0\n"
     ]
    }
   ],
   "source": [
    "def traversal(l):\n",
    "    for x in l:\n",
    "        print(x)\n",
    "l=[1,4,6,8,9]\n",
    "traversal(l)"
   ]
  },
  {
   "cell_type": "code",
   "execution_count": 1,
   "metadata": {},
   "outputs": [
    {
     "name": "stdout",
     "output_type": "stream",
     "text": [
      "Enter a limit : 5\n",
      "Enter a no. 1\n",
      "Enter a no. 3\n",
      "Enter a no. 4\n",
      "Enter a no. 5\n",
      "Enter a no. 9\n",
      "[1, 2, 3, 4, 5, 9]\n"
     ]
    }
   ],
   "source": [
    "def insert(l,n):\n",
    "    for i in range(len(l)):\n",
    "        if(l[i]>n):\n",
    "            index=i\n",
    "            break\n",
    "    l=l[:i]+[n]+l[i:]\n",
    "    return l\n",
    "l=[]\n",
    "m=int(input('Enter a limit : '))\n",
    "for j in range(m):\n",
    "    a=int(input(\"Enter a no. \"))\n",
    "    l.append(a)\n",
    "n=2\n",
    "print(insert(l, n))"
   ]
  },
  {
   "cell_type": "code",
   "execution_count": 5,
   "metadata": {},
   "outputs": [
    {
     "name": "stdout",
     "output_type": "stream",
     "text": [
      "Enter a limit : 5\n",
      "Enter a no. 1\n",
      "Enter a no. 2\n",
      "Enter a no. 3\n",
      "Enter a no. 4\n",
      "Enter a no. 5\n",
      "[1, 3, 4, 5]\n"
     ]
    }
   ],
   "source": [
    "def delete(l,n):\n",
    "    for i in range(len(l)):\n",
    "        if(l[i]==n):\n",
    "            #l=l[:i]+l[i+1:]\n",
    "            l.pop(i)\n",
    "            break\n",
    "    return l\n",
    "l=[]\n",
    "m=int(input('Enter a limit : '))\n",
    "for j in range(m):\n",
    "    a=int(input(\"Enter a no. \"))\n",
    "    l.append(a)\n",
    "n=2\n",
    "print(delete(l,n))"
   ]
  },
  {
   "cell_type": "code",
   "execution_count": 7,
   "metadata": {},
   "outputs": [
    {
     "name": "stdout",
     "output_type": "stream",
     "text": [
      "[1, 2, 3, 4, 5]\n"
     ]
    }
   ],
   "source": [
    "import bisect\n",
    "def insert(l,n):\n",
    "    bisect.insort(l,n)\n",
    "    return l\n",
    "l=[1,2,3,5]\n",
    "n=4\n",
    "print(insert(l,n))"
   ]
  },
  {
   "cell_type": "code",
   "execution_count": null,
   "metadata": {},
   "outputs": [],
   "source": []
  }
 ],
 "metadata": {
  "kernelspec": {
   "display_name": "Python 3",
   "language": "python",
   "name": "python3"
  },
  "language_info": {
   "codemirror_mode": {
    "name": "ipython",
    "version": 3
   },
   "file_extension": ".py",
   "mimetype": "text/x-python",
   "name": "python",
   "nbconvert_exporter": "python",
   "pygments_lexer": "ipython3",
   "version": "3.7.6"
  }
 },
 "nbformat": 4,
 "nbformat_minor": 4
}
