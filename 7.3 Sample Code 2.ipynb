{
 "cells": [
  {
   "cell_type": "markdown",
   "metadata": {},
   "source": [
    "WAP to check whether a no. entered by the user is narcissistic or not.\n",
    "A narcissistic no.is a number that is the sum of its own digits each raised to the power of the number of digits.\n",
    "Eg: 153 = 1^3 + 5^3 + 3^3"
   ]
  },
  {
   "cell_type": "code",
   "execution_count": 9,
   "metadata": {},
   "outputs": [
    {
     "name": "stdout",
     "output_type": "stream",
     "text": [
      "Enter a no. : 407\n"
     ]
    }
   ],
   "source": [
    "n=int(input('Enter a no. : '))"
   ]
  },
  {
   "cell_type": "code",
   "execution_count": 8,
   "metadata": {},
   "outputs": [
    {
     "name": "stdout",
     "output_type": "stream",
     "text": [
      "No. of digits =  3\n",
      "Narcissistic No.\n"
     ]
    }
   ],
   "source": [
    "import math as m\n",
    "a=n\n",
    "c=0\n",
    "while(a!=0):\n",
    "    c=c+1\n",
    "    a=int(a/10)\n",
    "print(\"No. of digits = \",c)\n",
    "a=n\n",
    "s=0\n",
    "while(a!=0):\n",
    "    d=int(a%10)\n",
    "    s=s+m.pow(d,c)\n",
    "    a=int(a/10)\n",
    "if(s==n):\n",
    "    print(\"Narcissistic No.\")\n",
    "else:\n",
    "    \n",
    "    print(\"Not Narcissistic No.\")"
   ]
  },
  {
   "cell_type": "code",
   "execution_count": null,
   "metadata": {},
   "outputs": [],
   "source": []
  }
 ],
 "metadata": {
  "kernelspec": {
   "display_name": "Python 3",
   "language": "python",
   "name": "python3"
  },
  "language_info": {
   "codemirror_mode": {
    "name": "ipython",
    "version": 3
   },
   "file_extension": ".py",
   "mimetype": "text/x-python",
   "name": "python",
   "nbconvert_exporter": "python",
   "pygments_lexer": "ipython3",
   "version": "3.7.6"
  }
 },
 "nbformat": 4,
 "nbformat_minor": 4
}
