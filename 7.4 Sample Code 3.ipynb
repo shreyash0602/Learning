{
 "cells": [
  {
   "cell_type": "markdown",
   "metadata": {},
   "source": [
    "WAP to check whether a user entered no. is palindrome or not."
   ]
  },
  {
   "cell_type": "code",
   "execution_count": 3,
   "metadata": {},
   "outputs": [
    {
     "name": "stdout",
     "output_type": "stream",
     "text": [
      "Enter a no. : 131\n"
     ]
    }
   ],
   "source": [
    "n=int(input(\"Enter a no. : \"))"
   ]
  },
  {
   "cell_type": "code",
   "execution_count": 4,
   "metadata": {},
   "outputs": [
    {
     "name": "stdout",
     "output_type": "stream",
     "text": [
      "Palindrome\n"
     ]
    }
   ],
   "source": [
    "a=n\n",
    "r=0\n",
    "while(a!=0):\n",
    "    d=int(a%10)\n",
    "    r=r*10+d\n",
    "    a=int(a/10)\n",
    "if(r==n):\n",
    "    print('Palindrome')\n",
    "else:\n",
    "    print(\"Not palindrome\")"
   ]
  },
  {
   "cell_type": "code",
   "execution_count": 5,
   "metadata": {},
   "outputs": [
    {
     "name": "stdout",
     "output_type": "stream",
     "text": [
      "Enter a string : civic\n"
     ]
    }
   ],
   "source": [
    "n=input('Enter a string : ')"
   ]
  },
  {
   "cell_type": "code",
   "execution_count": 6,
   "metadata": {},
   "outputs": [
    {
     "name": "stdout",
     "output_type": "stream",
     "text": [
      "Palindrome\n"
     ]
    }
   ],
   "source": [
    "l=len(n)\n",
    "p=l-1\n",
    "i=0\n",
    "while(i<p):\n",
    "    if(n[i]==n[p]):\n",
    "        p=p-1\n",
    "        i=i+1\n",
    "    else:\n",
    "        print('Not Palindrome')\n",
    "        break\n",
    "else:\n",
    "    print('Palindrome')"
   ]
  },
  {
   "cell_type": "code",
   "execution_count": null,
   "metadata": {},
   "outputs": [],
   "source": []
  }
 ],
 "metadata": {
  "kernelspec": {
   "display_name": "Python 3",
   "language": "python",
   "name": "python3"
  },
  "language_info": {
   "codemirror_mode": {
    "name": "ipython",
    "version": 3
   },
   "file_extension": ".py",
   "mimetype": "text/x-python",
   "name": "python",
   "nbconvert_exporter": "python",
   "pygments_lexer": "ipython3",
   "version": "3.7.6"
  }
 },
 "nbformat": 4,
 "nbformat_minor": 4
}
