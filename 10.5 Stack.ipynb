{
 "cells": [
  {
   "cell_type": "code",
   "execution_count": 4,
   "metadata": {},
   "outputs": [
    {
     "name": "stdout",
     "output_type": "stream",
     "text": [
      "1: Push  2: Pop  3: Display\n",
      "Enter a choice : 1\n",
      "Enter a no. 4\n",
      "Press 1 to continue1\n",
      "1: Push  2: Pop  3: Display\n",
      "Enter a choice : 1\n",
      "Enter a no. 5\n",
      "Press 1 to continue1\n",
      "1: Push  2: Pop  3: Display\n",
      "Enter a choice : 3\n",
      "[4, 5]\n",
      "Press 1 to continue1\n",
      "1: Push  2: Pop  3: Display\n",
      "Enter a choice : 2\n",
      "Deleted element  5\n",
      "Press 1 to continue0\n"
     ]
    }
   ],
   "source": [
    "s=[]\n",
    "c=1\n",
    "while(c==1):\n",
    "    print('1: Push  2: Pop  3: Display')\n",
    "    ch=int(input('Enter a choice : '))\n",
    "    if(ch==1):\n",
    "        n=int(input('Enter a no. '))\n",
    "        s.append(n)\n",
    "    elif(ch==2):\n",
    "        if(s==[]):\n",
    "            print('Empty stack')\n",
    "        else:\n",
    "            print('Deleted element ',s.pop())\n",
    "    elif(ch==3):\n",
    "        print(s)\n",
    "    else:\n",
    "        print('Wrong Choice')\n",
    "    c=int(input('Press 1 to continue'))"
   ]
  },
  {
   "cell_type": "code",
   "execution_count": null,
   "metadata": {},
   "outputs": [],
   "source": []
  },
  {
   "cell_type": "code",
   "execution_count": null,
   "metadata": {},
   "outputs": [],
   "source": []
  }
 ],
 "metadata": {
  "kernelspec": {
   "display_name": "Python 3",
   "language": "python",
   "name": "python3"
  },
  "language_info": {
   "codemirror_mode": {
    "name": "ipython",
    "version": 3
   },
   "file_extension": ".py",
   "mimetype": "text/x-python",
   "name": "python",
   "nbconvert_exporter": "python",
   "pygments_lexer": "ipython3",
   "version": "3.7.6"
  }
 },
 "nbformat": 4,
 "nbformat_minor": 4
}
